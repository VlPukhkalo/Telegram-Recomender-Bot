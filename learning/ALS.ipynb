{
 "cells": [
  {
   "cell_type": "code",
   "execution_count": 3,
   "id": "5990e15b-53b3-40be-b90f-61b4eb59fbdb",
   "metadata": {},
   "outputs": [
    {
     "name": "stdout",
     "output_type": "stream",
     "text": [
      "Collecting implicit\n",
      "  Downloading implicit-0.6.2-cp36-cp36m-manylinux2014_x86_64.whl (18.6 MB)\n",
      "     |████████████████████████████████| 18.6 MB 668 kB/s            \n",
      "\u001b[?25hRequirement already satisfied: scipy>=0.16 in /usr/local/lib/python3.6/dist-packages (from implicit) (1.5.4)\n",
      "Requirement already satisfied: numpy in /usr/local/lib/python3.6/dist-packages (from implicit) (1.19.5)\n",
      "Requirement already satisfied: tqdm>=4.27 in /usr/local/lib/python3.6/dist-packages (from implicit) (4.63.0)\n",
      "Requirement already satisfied: importlib-resources in /usr/local/lib/python3.6/dist-packages (from tqdm>=4.27->implicit) (5.4.0)\n",
      "Requirement already satisfied: zipp>=3.1.0 in /usr/local/lib/python3.6/dist-packages (from importlib-resources->tqdm>=4.27->implicit) (3.6.0)\n",
      "Installing collected packages: implicit\n",
      "Successfully installed implicit-0.6.2\n",
      "\u001b[33mWARNING: Running pip as the 'root' user can result in broken permissions and conflicting behaviour with the system package manager. It is recommended to use a virtual environment instead: https://pip.pypa.io/warnings/venv\u001b[0m\n"
     ]
    }
   ],
   "source": [
    "!pip install implicit"
   ]
  },
  {
   "cell_type": "code",
   "execution_count": 21,
   "id": "b7b264d1-64e7-4212-bdd1-63c6a3bfa5b5",
   "metadata": {},
   "outputs": [],
   "source": [
    "import pandas as pd\n",
    "import numpy as np\n",
    "\n",
    "import json\n",
    "from scipy import sparse as sp\n",
    "from tqdm.notebook import tqdm\n",
    "\n",
    "import implicit\n",
    "\n",
    "import tqdm"
   ]
  },
  {
   "cell_type": "code",
   "execution_count": 11,
   "id": "ad245017-2d21-45bf-83fb-541472efc79b",
   "metadata": {},
   "outputs": [],
   "source": [
    "with open('../data/json_data_0.json') as json_file:\n",
    "       json_data = json.load(json_file)"
   ]
  },
  {
   "cell_type": "code",
   "execution_count": 16,
   "id": "11ae945f-ecec-4a9c-9daa-782ad73855da",
   "metadata": {
    "jupyter": {
     "outputs_hidden": true
    },
    "scrolled": true,
    "tags": []
   },
   "outputs": [
    {
     "data": {
      "text/plain": [
       "array([1.        , 0.99900373, 0.99800746, 0.99701119, 0.99601491,\n",
       "       0.99501863, 0.99402236, 0.99302609, 0.99202982, 0.99103357,\n",
       "       0.99003733, 0.98904109, 0.98804488, 0.98704868, 0.98605249,\n",
       "       0.98505633, 0.98406019, 0.98306408, 0.98206799, 0.98107193,\n",
       "       0.9800759 , 0.9790799 , 0.97808394, 0.97708801, 0.97609212,\n",
       "       0.97509628, 0.97410047, 0.97310471, 0.97210899, 0.97111333,\n",
       "       0.97011771, 0.96912215, 0.96812664, 0.96713118, 0.96613579,\n",
       "       0.96514045, 0.96414518, 0.96314997, 0.96215483, 0.96115976,\n",
       "       0.96016475, 0.95916982, 0.95817496, 0.95718018, 0.95618548,\n",
       "       0.95519085, 0.95419631, 0.95320185, 0.95220748, 0.9512132 ,\n",
       "       0.95021901, 0.9492249 , 0.9482309 , 0.94723698, 0.94624317,\n",
       "       0.94524946, 0.94425584, 0.94326233, 0.94226893, 0.94127564,\n",
       "       0.94028245, 0.93928938, 0.93829642, 0.93730357, 0.93631084,\n",
       "       0.93531824, 0.93432575, 0.93333339, 0.93234115, 0.93134904,\n",
       "       0.93035706, 0.92936521, 0.92837349, 0.92738191, 0.92639047,\n",
       "       0.92539916, 0.924408  , 0.92341698, 0.9224261 , 0.92143537,\n",
       "       0.92044479, 0.91945436, 0.91846408, 0.91747396, 0.916484  ,\n",
       "       0.91549419, 0.91450454, 0.91351506, 0.91252574, 0.91153659,\n",
       "       0.9105476 , 0.90955879, 0.90857014, 0.90758168, 0.90659338,\n",
       "       0.90560527, 0.90461733, 0.90362958, 0.90264201, 0.90165463,\n",
       "       0.90066743, 0.89968042, 0.89869361, 0.89770699, 0.89672056,\n",
       "       0.89573433, 0.8947483 , 0.89376247, 0.89277684, 0.89179142,\n",
       "       0.8908062 , 0.8898212 , 0.8888364 , 0.88785182, 0.88686745,\n",
       "       0.88588329, 0.88489936, 0.88391564, 0.88293215, 0.88194888,\n",
       "       0.88096583, 0.87998302, 0.87900043, 0.87801807, 0.87703595,\n",
       "       0.87605406, 0.87507241, 0.874091  , 0.87310983, 0.8721289 ,\n",
       "       0.87114821, 0.87016778, 0.86918759, 0.86820765, 0.86722796,\n",
       "       0.86624852, 0.86526935, 0.86429042, 0.86331176, 0.86233336,\n",
       "       0.86135522, 0.86037735, 0.85939975, 0.85842241, 0.85744534,\n",
       "       0.85646855, 0.85549203, 0.85451578, 0.85353982, 0.85256413,\n",
       "       0.85158872, 0.8506136 , 0.84963876, 0.84866421, 0.84768995,\n",
       "       0.84671598, 0.8457423 , 0.84476892, 0.84379583, 0.84282304,\n",
       "       0.84185055, 0.84087836, 0.83990647, 0.83893489, 0.83796362,\n",
       "       0.83699265, 0.83602199, 0.83505165, 0.83408162, 0.83311191,\n",
       "       0.83214251, 0.83117344, 0.83020468, 0.82923625, 0.82826814,\n",
       "       0.82730036, 0.82633291, 0.82536578, 0.82439899, 0.82343254,\n",
       "       0.82246641, 0.82150063, 0.82053518, 0.81957007, 0.81860531,\n",
       "       0.81764089, 0.81667682, 0.81571309, 0.81474971, 0.81378669,\n",
       "       0.81282401, 0.8118617 , 0.81089973, 0.80993813, 0.80897688,\n",
       "       0.808016  , 0.80705548, 0.80609532, 0.80513553, 0.80417611,\n",
       "       0.80321706, 0.80225838, 0.80130007, 0.80034214, 0.79938459,\n",
       "       0.79842741, 0.79747062, 0.7965142 , 0.79555817, 0.79460252,\n",
       "       0.79364727, 0.7926924 , 0.79173791, 0.79078383, 0.78983013,\n",
       "       0.78887683, 0.78792393, 0.78697142, 0.78601932, 0.78506762,\n",
       "       0.78411632, 0.78316542, 0.78221494, 0.78126486, 0.78031519,\n",
       "       0.77936593, 0.77841709, 0.77746866, 0.77652065, 0.77557305,\n",
       "       0.77462588, 0.77367912, 0.77273279, 0.77178689, 0.77084141,\n",
       "       0.76989636, 0.76895173, 0.76800754, 0.76706378, 0.76612046,\n",
       "       0.76517757, 0.76423512, 0.7632931 , 0.76235153, 0.7614104 ,\n",
       "       0.76046971, 0.75952947, 0.75858968, 0.75765033, 0.75671144,\n",
       "       0.75577299, 0.754835  , 0.75389746, 0.75296038, 0.75202376,\n",
       "       0.75108759, 0.75015189, 0.74921664, 0.74828187, 0.74734755,\n",
       "       0.74641371, 0.74548033, 0.74454742, 0.74361498, 0.74268302,\n",
       "       0.74175153, 0.74082052, 0.73988998, 0.73895992, 0.73803035,\n",
       "       0.73710125, 0.73617264, 0.73524451, 0.73431687, 0.73338972,\n",
       "       0.73246305, 0.73153688, 0.7306112 , 0.72968601, 0.72876132,\n",
       "       0.72783712, 0.72691342, 0.72599022, 0.72506752, 0.72414533,\n",
       "       0.72322363, 0.72230245, 0.72138176, 0.72046159, 0.71954193,\n",
       "       0.71862277, 0.71770413, 0.71678601, 0.71586839, 0.7149513 ,\n",
       "       0.71403472, 0.71311866, 0.71220312, 0.71128811, 0.71037361,\n",
       "       0.70945964, 0.7085462 , 0.70763329, 0.7067209 , 0.70580905,\n",
       "       0.70489772, 0.70398693, 0.70307667, 0.70216695, 0.70125777,\n",
       "       0.70034912, 0.69944101, 0.69853345, 0.69762643, 0.69671995,\n",
       "       0.69581401, 0.69490862, 0.69400378, 0.69309949, 0.69219575,\n",
       "       0.69129256, 0.69038992, 0.68948784, 0.68858631, 0.68768534,\n",
       "       0.68678492, 0.68588507, 0.68498578, 0.68408705, 0.68318888,\n",
       "       0.68229127, 0.68139423, 0.68049776, 0.67960186, 0.67870652,\n",
       "       0.67781176, 0.67691757, 0.67602395, 0.6751309 , 0.67423844,\n",
       "       0.67334654, 0.67245523, 0.67156449])"
      ]
     },
     "execution_count": 16,
     "metadata": {},
     "output_type": "execute_result"
    }
   ],
   "source": [
    "np.array([i['rating'] for i in json_data[0]['users']]).astype(np.float32)"
   ]
  },
  {
   "cell_type": "code",
   "execution_count": 31,
   "id": "f3643680-b91a-42f0-8ca9-99dc720ebf7b",
   "metadata": {},
   "outputs": [],
   "source": [
    "def make_coo_row(data):\n",
    "    \n",
    "    values = np.array([i['rating'] for i in data['users']]).astype(np.float32)\n",
    "    idx = [(i['user_id'] - 100000000) for i in data['users']]\n",
    "    \n",
    "    return sp.coo_matrix(\n",
    "        (values, ([0] * len(idx), idx)), shape=(1, 5000001),\n",
    "    )"
   ]
  },
  {
   "cell_type": "code",
   "execution_count": 32,
   "id": "26add59c-632b-4d0c-86ef-35a7a24e035f",
   "metadata": {},
   "outputs": [
    {
     "name": "stderr",
     "output_type": "stream",
     "text": [
      "100%|██████████| 56562/56562 [00:46<00:00, 1223.26it/s]\n"
     ]
    }
   ],
   "source": [
    "rows = []\n",
    "for data in tqdm.tqdm(json_data):\n",
    "    rows.append(make_coo_row(data))"
   ]
  },
  {
   "cell_type": "code",
   "execution_count": 33,
   "id": "1fe2fad6-e23d-4480-ba97-1f139a65fd33",
   "metadata": {},
   "outputs": [],
   "source": [
    "X_sparse = sp.vstack(rows).tocsr()"
   ]
  },
  {
   "cell_type": "code",
   "execution_count": 83,
   "id": "6aadc504-62a1-4799-bb48-b9434ee5f5ae",
   "metadata": {},
   "outputs": [],
   "source": [
    "model = implicit.als.AlternatingLeastSquares(factors=8, regularization=0.0, iterations=8)"
   ]
  },
  {
   "cell_type": "code",
   "execution_count": 53,
   "id": "4415031a-6848-4d00-a853-e7cb8ff210a2",
   "metadata": {},
   "outputs": [
    {
     "data": {
      "text/plain": [
       "<56562x5000001 sparse matrix of type '<class 'numpy.float32'>'\n",
       "\twith 100613973 stored elements in Compressed Sparse Row format>"
      ]
     },
     "execution_count": 53,
     "metadata": {},
     "output_type": "execute_result"
    }
   ],
   "source": [
    "X_sparse"
   ]
  },
  {
   "cell_type": "code",
   "execution_count": 84,
   "id": "7983ea77-08dd-4f10-b750-243e3c221a95",
   "metadata": {},
   "outputs": [
    {
     "name": "stderr",
     "output_type": "stream",
     "text": [
      "/usr/local/lib/python3.6/dist-packages/implicit/utils.py:141: ParameterWarning: Method expects CSR input, and was passed csc_matrix instead. Converting to CSR took 9.947456121444702 seconds\n",
      "  ParameterWarning,\n"
     ]
    },
    {
     "data": {
      "application/vnd.jupyter.widget-view+json": {
       "model_id": "2a7c8310a4e3413ea3fa4e9d3a28fa39",
       "version_major": 2,
       "version_minor": 0
      },
      "text/plain": [
       "  0%|          | 0/8 [00:00<?, ?it/s]"
      ]
     },
     "metadata": {},
     "output_type": "display_data"
    }
   ],
   "source": [
    "model.fit(X_sparse.T, show_progress=True)"
   ]
  },
  {
   "cell_type": "code",
   "execution_count": 85,
   "id": "c5379000-9d44-4c95-bee1-0de3cd144853",
   "metadata": {},
   "outputs": [],
   "source": [
    "model.save('firstmodel.npz')"
   ]
  },
  {
   "cell_type": "code",
   "execution_count": 47,
   "id": "955b86d0-a5cc-4f7c-be43-79e2cd76ea2b",
   "metadata": {},
   "outputs": [],
   "source": [
    "model1 = implicit.als.AlternatingLeastSquares(factors=8, regularization=0.0, iterations=8)"
   ]
  },
  {
   "cell_type": "code",
   "execution_count": 51,
   "id": "f483899c-922c-4587-b6b9-f160d2645cc3",
   "metadata": {},
   "outputs": [],
   "source": [
    "model1 = model1.load('firstmodel.npz')"
   ]
  },
  {
   "cell_type": "code",
   "execution_count": 52,
   "id": "11cfe315-04df-401f-837a-dfd9d6ce9ad9",
   "metadata": {},
   "outputs": [
    {
     "data": {
      "text/plain": [
       "<implicit.cpu.als.AlternatingLeastSquares at 0x7fb7abc66b38>"
      ]
     },
     "execution_count": 52,
     "metadata": {},
     "output_type": "execute_result"
    }
   ],
   "source": [
    "sp.coo_matrix(\n",
    "       (1, 56562),\n",
    "    ).tocsr()"
   ]
  },
  {
   "cell_type": "code",
   "execution_count": 78,
   "id": "d9a2f121-f4ac-410f-84b4-f92955a12b54",
   "metadata": {},
   "outputs": [
    {
     "data": {
      "text/plain": [
       "(array([30, 29, 28, 27, 26, 25, 24, 23, 22, 21, 20, 19, 18, 17, 16, 15, 14,\n",
       "        13, 12, 11, 10,  9,  8,  7,  6,  5,  4,  3,  2,  0], dtype=int32),\n",
       " array([0., 0., 0., 0., 0., 0., 0., 0., 0., 0., 0., 0., 0., 0., 0., 0., 0.,\n",
       "        0., 0., 0., 0., 0., 0., 0., 0., 0., 0., 0., 0., 0.], dtype=float32))"
      ]
     },
     "execution_count": 78,
     "metadata": {},
     "output_type": "execute_result"
    }
   ],
   "source": [
    "model.recommend(0, make_coo_row1(dd).tocsr(), N=30, filter_already_liked_items=True, recalculate_user=True)"
   ]
  },
  {
   "cell_type": "code",
   "execution_count": 64,
   "id": "a7fd9ee8-bad7-432d-aaab-c2f574247237",
   "metadata": {},
   "outputs": [],
   "source": [
    "def make_coo_row1(data):\n",
    "    if data != []:\n",
    "        values = [i['rating'] for i in data]\n",
    "        idx = [i['id'] for i in data]\n",
    "\n",
    "        return sp.coo_matrix(\n",
    "            (values, ([0] * len(idx), idx)), shape=(1, 56562),\n",
    "        )\n",
    "    else:\n",
    "        return sp.coo_matrix(\n",
    "            (56562)\n",
    "        )"
   ]
  },
  {
   "cell_type": "code",
   "execution_count": null,
   "id": "bcc1f849",
   "metadata": {},
   "outputs": [],
   "source": []
  }
 ],
 "metadata": {
  "kernelspec": {
   "display_name": "Python 3 (ipykernel)",
   "language": "python",
   "name": "python3"
  },
  "language_info": {
   "codemirror_mode": {
    "name": "ipython",
    "version": 3
   },
   "file_extension": ".py",
   "mimetype": "text/x-python",
   "name": "python",
   "nbconvert_exporter": "python",
   "pygments_lexer": "ipython3",
   "version": "3.10.9"
  }
 },
 "nbformat": 4,
 "nbformat_minor": 5
}
